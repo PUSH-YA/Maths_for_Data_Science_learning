{
 "cells": [
  {
   "cell_type": "code",
   "execution_count": null,
   "id": "1b141556-c253-489a-8907-40cede64f9a5",
   "metadata": {},
   "outputs": [],
   "source": [
    "import numpy as np"
   ]
  },
  {
   "cell_type": "code",
   "execution_count": null,
   "id": "6e14e114-1929-40de-91e3-88e0518b54dd",
   "metadata": {},
   "outputs": [],
   "source": [
    "import numpy as mp\n",
    "from matplotlib import pyplot as plt\n",
    "\n",
    "A = np.array([[0.5,0.5,0.25],\n",
    "\t\t\t[0.25,0.5,0.25],\n",
    "\t\t\t[0.25,0,0.5]])\n",
    "display(A)\n",
    "\n",
    "X_today = np.array([[1],[0],[0]])\n",
    "X_tmrw = (A@X_today)\n",
    "display(X_today)\n",
    "display(X_tmrw)"
   ]
  },
  {
   "cell_type": "code",
   "execution_count": null,
   "id": "03c5749b-1904-40d1-ad91-b6cfbca96ccb",
   "metadata": {},
   "outputs": [],
   "source": [
    "\n",
    "weather = np.zeros((50,3))\n",
    "\n",
    "for k in range(50):\n",
    "    X_tmrw = A@X_today\n",
    "    # weather[k] = X_tmrw\n",
    "    print(k)\n",
    "    print(X_tmrw)\n",
    "    X_today = X_tmrw"
   ]
  }
 ],
 "metadata": {
  "kernelspec": {
   "display_name": "Python 3 (ipykernel)",
   "language": "python",
   "name": "python3"
  },
  "language_info": {
   "codemirror_mode": {
    "name": "ipython",
    "version": 3
   },
   "file_extension": ".py",
   "mimetype": "text/x-python",
   "name": "python",
   "nbconvert_exporter": "python",
   "pygments_lexer": "ipython3",
   "version": "3.10.9"
  }
 },
 "nbformat": 4,
 "nbformat_minor": 5
}
