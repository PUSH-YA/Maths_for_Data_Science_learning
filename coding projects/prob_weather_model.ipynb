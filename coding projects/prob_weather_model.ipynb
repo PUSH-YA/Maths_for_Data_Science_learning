{
 "cells": [
  {
   "cell_type": "code",
   "execution_count": 1,
   "id": "1b141556-c253-489a-8907-40cede64f9a5",
   "metadata": {},
   "outputs": [],
   "source": [
    "import numpy as mp\n",
    "from matplotlib import pyplot as plt"
   ]
  },
  {
   "cell_type": "code",
   "execution_count": 2,
   "id": "6e14e114-1929-40de-91e3-88e0518b54dd",
   "metadata": {},
   "outputs": [
    {
     "data": {
      "text/plain": [
       "array([[0.5 , 0.5 , 0.25],\n",
       "       [0.25, 0.5 , 0.25],\n",
       "       [0.25, 0.  , 0.5 ]])"
      ]
     },
     "metadata": {},
     "output_type": "display_data"
    },
    {
     "data": {
      "text/plain": [
       "array([[1],\n",
       "       [0],\n",
       "       [0]])"
      ]
     },
     "metadata": {},
     "output_type": "display_data"
    },
    {
     "data": {
      "text/plain": [
       "array([[0.5 ],\n",
       "       [0.25],\n",
       "       [0.25]])"
      ]
     },
     "metadata": {},
     "output_type": "display_data"
    }
   ],
   "source": [
    "A = np.array([[0.5,0.5,0.25],\n",
    "\t\t\t[0.25,0.5,0.25],\n",
    "                [0.25,0,0.5]])\n",
    "display(A)\n",
    "\n",
    "X_today = np.array([[1],[0],[0]])\n",
    "X_tmrw = (A@X_today)\n",
    "display(X_today)\n",
    "display(X_tmrw)"
   ]
  },
  {
   "cell_type": "code",
   "execution_count": 41,
   "id": "03c5749b-1904-40d1-ad91-b6cfbca96ccb",
   "metadata": {},
   "outputs": [],
   "source": [
    "\n",
    "weather = np.zeros((50,3))\n",
    "\n",
    "X_today = np.array([[1],[0],[0]])\n",
    "for k in range(50):\n",
    "    X_tmrw = A@X_today\n",
    "    weather[k] = [i[0] for i in X_tmrw]\n",
    "    # print(k)\n",
    "    # print(X_tmrw)\n",
    "    X_today = X_tmrw"
   ]
  },
  {
   "cell_type": "code",
   "execution_count": 42,
   "id": "4fd1583f-1df6-49a7-96f7-9e7078805086",
   "metadata": {},
   "outputs": [
    {
     "data": {
      "text/plain": [
       "array([[0.5       , 0.25      , 0.25      ],\n",
       "       [0.4375    , 0.3125    , 0.25      ],\n",
       "       [0.4375    , 0.328125  , 0.234375  ],\n",
       "       [0.44140625, 0.33203125, 0.2265625 ],\n",
       "       [0.44335938, 0.33300781, 0.22363281],\n",
       "       [0.4440918 , 0.33325195, 0.22265625]])"
      ]
     },
     "execution_count": 42,
     "metadata": {},
     "output_type": "execute_result"
    }
   ],
   "source": [
    "weather[0:6,:]"
   ]
  },
  {
   "cell_type": "code",
   "execution_count": 43,
   "id": "ac59e247-f9d5-4e0e-90b5-7495f2a10909",
   "metadata": {},
   "outputs": [
    {
     "data": {
      "image/png": "[encoded data removed]",
      "text/plain": [
       "<Figure size 640x480 with 1 Axes>"
      ]
     },
     "metadata": {},
     "output_type": "display_data"
    }
   ],
   "source": [
    "plt.plot(weather)\n",
    "plt.grid(True)"
   ]
  }
 ],
 "metadata": {
  "kernelspec": {
   "display_name": "Python 3 (ipykernel)",
   "language": "python",
   "name": "python3"
  },
  "language_info": {
   "codemirror_mode": {
    "name": "ipython",
    "version": 3
   },
   "file_extension": ".py",
   "mimetype": "text/x-python",
   "name": "python",
   "nbconvert_exporter": "python",
   "pygments_lexer": "ipython3",
   "version": "3.10.9"
  }
 },
 "nbformat": 4,
 "nbformat_minor": 5
}
